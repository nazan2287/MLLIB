{
  "nbformat": 4,
  "nbformat_minor": 0,
  "metadata": {
    "colab": {
      "name": "Completed_Nazarahamed_TF-IDF from Scratch Assignment.ipynb",
      "provenance": [],
      "collapsed_sections": [],
      "toc_visible": true
    },
    "kernelspec": {
      "name": "python3",
      "display_name": "Python 3"
    },
    "language_info": {
      "name": "python"
    }
  },
  "cells": [
    {
      "cell_type": "markdown",
      "metadata": {
        "id": "GsnogjXUQu1K"
      },
      "source": [
        "# NOTE:\n",
        "\n",
        "1. Please implement the TFIDf function such that for each word in a sentence, its corresponding tfidf value is assigned. Thus a 4 x 6 sized matrix should be returned where the rows represent sentences and the columns represent words. We wish to keep it simple in the beginning.\n",
        "\n",
        "2. In reality the TFIDF function should return a matrix where the rows represent sentences and the columns represent words (ie: Features). Every sentence vector in this matrix will be 'd' dimensional, where d = number of unique words in the corpus (ie: Vocabulary).\n",
        "Every position/cell in a sentence vector correponds to a particular word in the vocabulary. If the word is not present in the current sentence, we assign a value of 0 to that cell, else we assign the TFIDF value."
      ]
    },
    {
      "cell_type": "markdown",
      "metadata": {
        "id": "0vrZdUum2xPk"
      },
      "source": [
        "# **Implement TF-IDF from scratch**\n",
        "\n",
        "In this assignment, you will implement TF-IDF vectorization of text from scratch using only Python and inbuilt data structures. You will then verify the correctness of the your implementation using a \"grader\" function/cell (provided by us) which will match your implmentation.\n",
        "\n",
        "The grader fucntion would help you validate the correctness of your code. \n",
        "\n",
        "Please submit the final Colab notebook in the classroom ONLY after you have verified your code using the grader function/cell.\n",
        "\n",
        "**(FAQ) Why bother about implementing a function to compute TF-IDF when it is already available in major libraries?**\n",
        "\n",
        "Ans.\n",
        "1. It helps you improve your coding proficiency.\n",
        "2. It helps you obtain a deeper understanding of the concepts and how it works internally. Knowledge of the internals will also help you debug problems better.\n",
        "3. A lot of product based startups and companies do focus on this in thier interviews to gauge your depth and clarity of understanding along with your programming skills. Hence, most top universities have implementations of some ML algorithms/concepts as mandatory assignments.\n",
        "\n",
        "**NOTE: DO NOT change the \"grader\" functions or code snippets written by us.Please add your code in the suggested locations.**\n",
        "\n",
        "Ethics Code:\n",
        "1. You are welcome to read up online resources to implement the code. \n",
        "2. You can also discuss with your classmates on the implmentation over Slack.\n",
        "3. But, the code you wirte and submit should be yours ONLY. Your code will be compared against other stduents' code and online code snippets to check for plagiarism. If your code is found to be plagiarised, you will be awarded zero-marks for all assignments, which have a 10% wieghtage in the final marks for this course."
      ]
    },
    {
      "cell_type": "code",
      "metadata": {
        "id": "ZxSRJ4KT3OMw"
      },
      "source": [
        "# Corpus to be used for this assignment\n",
        "\n",
        "corpus = [\n",
        "     'this is the first document mostly',\n",
        "     'this document is the second document',\n",
        "     'and this is the third one',\n",
        "     'is this the first document here',\n",
        "]"
      ],
      "execution_count": null,
      "outputs": []
    },
    {
      "cell_type": "code",
      "metadata": {
        "id": "aYoKXNsU3nhO"
      },
      "source": [
        "# Please implement this fucntion and write your code wherever asked. Do NOT change the code snippets provided by us.\n",
        "import numpy as np\n",
        "import math \n",
        "\n",
        "def computeTFIDF (corpus):\n",
        "  \"\"\"Given a list of sentences as \"corpus\", return the TF-IDF vectors for all the \n",
        "  sentences in the corpus as a numpy 2D matrix. \n",
        "  \n",
        "  Each row of the 2D matrix must correspond to one sentence \n",
        "  and each column corresponds to a word in the text corpus. \n",
        "  \n",
        "  Please order the rows in the same order as the \n",
        "  sentences in the input \"corpus\". \n",
        "    \n",
        "  Ignore puncutation symbols like comma, fullstop, \n",
        "  exclamation, question-mark etc from the input corpus.\n",
        "  \n",
        "  For e.g, If the corpus contains sentences with these \n",
        "  9 distinct words, ['and', 'document', 'first', 'is', 'one', 'second', 'the', 'third', 'this'], \n",
        "  then the first column of the 2D matrix will correpsond to word \"and\", the second column will \n",
        "  correspond to column \"document\" and so on. \n",
        "  \n",
        "  Write this function using only basic Python code, inbuilt Data Structures and  NumPy ONLY.\n",
        "\n",
        "  Implement the code as optimally as possible using the inbuilt data structures of Python.\n",
        "  \"\"\"\n",
        "\n",
        "  ##############################################################\n",
        "  ####   YOUR CODE BELOW  as per the above instructions #######\n",
        "  ##############################################################\n",
        "  def idf_calc(word) :\n",
        "    '''\n",
        "    To calculate the idf for each word\n",
        "    '''\n",
        "    mtch_count=0\n",
        "    len_of_corpus=len(corpus)\n",
        "    for doc in corpus :\n",
        "      if word in doc :     \n",
        "        mtch_count += 1 \n",
        "    #print(\"for word \" + word +\" matching count is \"+ str(mtch_count))  \n",
        "    #clcualting the idf\n",
        "    idf=math.log(((len_of_corpus/mtch_count)))\n",
        "    #print(\"idf \" + str(idf))\n",
        "    return idf\n",
        "\n",
        "\n",
        "  idffor_enttire_set=[]\n",
        "\n",
        "  for i in corpus :\n",
        "    idf_for_rec=[]\n",
        "    #print(i)\n",
        "    lst_i= i.split()\n",
        "    len_of_doc=len(lst_i)\n",
        "    for word in lst_i :\n",
        "          #print(word)\n",
        "          count_ofmatcword=lst_i.count(word)\n",
        "          tf = ((count_ofmatcword/len_of_doc))\n",
        "          #idf_word=idf_calc(word)\n",
        "          #print(tf)\n",
        "          idf_word=idf_calc(word)\n",
        "          tf_idf=round(((tf*idf_word)),2)\n",
        "          idf_for_rec.append(tf_idf)\n",
        "    idffor_enttire_set.append(idf_for_rec)\n",
        "\n",
        "  np_aray = np.array(idffor_enttire_set) \n",
        "  return np_aray\n",
        "  \n",
        "\n"
      ],
      "execution_count": null,
      "outputs": []
    },
    {
      "cell_type": "code",
      "source": [
        "import numpy as np\n",
        "X_custom = computeTFIDF(corpus)\n",
        "print(X_custom)"
      ],
      "metadata": {
        "id": "agMRAwm6U_Ag",
        "outputId": "a4ad1790-6799-4adc-ef7a-8a0863b2955f",
        "colab": {
          "base_uri": "https://localhost:8080/"
        }
      },
      "execution_count": null,
      "outputs": [
        {
          "output_type": "stream",
          "name": "stdout",
          "text": [
            "[[0.   0.   0.   0.12 0.05 0.23]\n",
            " [0.   0.1  0.   0.   0.23 0.1 ]\n",
            " [0.23 0.   0.   0.   0.23 0.23]\n",
            " [0.   0.   0.   0.12 0.05 0.23]]\n"
          ]
        }
      ]
    },
    {
      "cell_type": "markdown",
      "metadata": {
        "id": "cZ_hmMn92bEe"
      },
      "source": [
        "# Grader Cell\n",
        "Please execute the following Grader cell to verify the correctness of your above implementation. This cell will print \"Success\" if your implmentation of the computeTFIDF() is correct, else, it will print \"Failed\". Make sure you get a \"Success\" before you submit the code in the classroom."
      ]
    },
    {
      "cell_type": "code",
      "metadata": {
        "id": "ZUYmXFjfu53i",
        "outputId": "3966404e-4fab-44dc-9432-f21b6a68dd0f",
        "colab": {
          "base_uri": "https://localhost:8080/"
        }
      },
      "source": [
        "###########################################\n",
        "## GRADER CELL: Do NOT Change this.\n",
        "# This cell will print \"Success\" if your implmentation of the computeTFIDF() is correct.\n",
        "# Else, it will print \"Failed\"\n",
        "###########################################\n",
        "import numpy as np\n",
        "\n",
        "# compute TF-IDF using the computeTFIDF() function\n",
        "X_custom = computeTFIDF(corpus)\n",
        "\n",
        "print(X_custom)\n",
        "\n",
        "# Reference grader array - DO NOT MODIFY IT\n",
        "X_grader = np.array(\n",
        "    [[0, 0, 0, 0.12, 0.05, 0.23],\n",
        "     [0, 0.1, 0, 0, 0.23, 0.1],\n",
        "     [0.23, 0, 0, 0, 0.23, 0.23],\n",
        "     [0, 0, 0, 0.12, 0.05, 0.23]]\n",
        "     )\n",
        "  \n",
        "\n",
        "# compare X_grader and X_custom\n",
        "comparison = ( X_grader == X_custom )\n",
        "isEqual = comparison.all()\n",
        "\n",
        "if isEqual:\n",
        "  print(\"******** Success ********\")\n",
        "else:\n",
        "  print(\"####### Failed #######\")\n",
        "  print(\"\\nX_grader = \\n\\n\", X_grader)\n",
        "  print(\"\\n\",\"*\"*50)\n",
        "  print(\"\\nX_custom = \\n\\n\", X_custom)\n"
      ],
      "execution_count": null,
      "outputs": [
        {
          "output_type": "stream",
          "name": "stdout",
          "text": [
            "[[0.   0.   0.   0.12 0.05 0.23]\n",
            " [0.   0.1  0.   0.   0.23 0.1 ]\n",
            " [0.23 0.   0.   0.   0.23 0.23]\n",
            " [0.   0.   0.   0.12 0.05 0.23]]\n",
            "******** Success ********\n"
          ]
        }
      ]
    },
    {
      "cell_type": "markdown",
      "source": [
        "below code is for calculating for 11 dimmensions, not for assignment submission"
      ],
      "metadata": {
        "id": "Dw3hqWlgUNGs"
      }
    },
    {
      "cell_type": "code",
      "source": [
        "import numpy as np\n",
        "word_corpus=[]\n",
        "for i in corpus :\n",
        "  lst_i= i.split()\n",
        "  for word in lst_i :\n",
        "      word_corpus.append(word)\n",
        "unique_nparay=np.unique(np.array(word_corpus))\n",
        "unique_nparay\n",
        "\n",
        "\n",
        "\n",
        "##############################################################\n",
        "####  #calculating TF for unique keywordsthat is for all 11 dimmensions\n",
        "##############################################################\n",
        "#calculating TF in tf dictionary\n",
        "import math\n",
        "\n",
        "for key in unique_nparay :\n",
        "  print(key)\n",
        "  tf_val=[]\n",
        "  cnt_match_doc=0\n",
        "  for i in corpus :\n",
        "     lst_i= i.split()\n",
        "     lendoc=len(lst_i)\n",
        "     lenalldoc=len(corpus)\n",
        "     if key in lst_i:\n",
        "       count =lst_i.count(key)\n",
        "       cnt_match_doc =  cnt_match_doc+1\n",
        "       print(lst_i)\n",
        "       #print(lendoc)\n",
        "       #print(count)\n",
        "       tf=((count/lendoc))\n",
        "       #print(tf)  \n",
        "     else :\n",
        "        count = 0\n",
        "        tf=0        \n",
        "     tf_val.append(tf)      \n",
        "  print(cnt_match_doc)\n",
        "  idfwo_log = ((lendoc/cnt_match_doc))\n",
        "  idfwo=math.log(idfwo_log)\n",
        "  print(idfwo_log)\n",
        "  print(idfwo)\n",
        "  print(type(tf_val))\n",
        "  tf_valarry=np.array(tf_val)\n",
        "  tf_dict[key]= tf_valarry*idfwo\n",
        "print(tf_dict)\n",
        "\n"
      ],
      "metadata": {
        "id": "3n5UZZ-l7nKI"
      },
      "execution_count": null,
      "outputs": []
    }
  ]
}